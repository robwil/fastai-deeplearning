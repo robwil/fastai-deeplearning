{
  "nbformat": 4,
  "nbformat_minor": 0,
  "metadata": {
    "colab": {
      "name": "Predict Future Sales.ipynb",
      "provenance": [],
      "collapsed_sections": [],
      "machine_shape": "hm",
      "include_colab_link": true
    },
    "kernelspec": {
      "name": "python3",
      "display_name": "Python 3"
    },
    "accelerator": "GPU"
  },
  "cells": [
    {
      "cell_type": "markdown",
      "metadata": {
        "id": "view-in-github",
        "colab_type": "text"
      },
      "source": [
        "<a href=\"https://colab.research.google.com/github/robwil/fastai-deeplearning/blob/master/Predict_Future_Sales.ipynb\" target=\"_parent\"><img src=\"https://colab.research.google.com/assets/colab-badge.svg\" alt=\"Open In Colab\"/></a>"
      ]
    },
    {
      "cell_type": "markdown",
      "metadata": {
        "id": "gyW7Q93hInEX",
        "colab_type": "text"
      },
      "source": [
        "This notebook is an attempt to use the FastAI Tabular Learner to predict future sales for a Kaggle competition. I previously used Random Forest model to achieve 0.89 RMSE and hoping to do better here.\n Unfortunately, it did not get better performance, topping out at 1.12 RMSE",
      ]
    },
    {
      "cell_type": "code",
      "metadata": {
        "id": "SgzqMAt86nFa",
        "colab_type": "code",
        "colab": {}
      },
      "source": [
        "from fastai.tabular import *"
      ],
      "execution_count": 0,
      "outputs": []
    },
    {
      "cell_type": "code",
      "metadata": {
        "id": "vKphF4G46vi6",
        "colab_type": "code",
        "colab": {
          "base_uri": "https://localhost:8080/",
          "height": 204
        },
        "outputId": "7dcf667c-9650-41c4-836f-cbeb86495142"
      },
      "source": [
        "!wget http://staging.robwil.io/data.pkl"
      ],
      "execution_count": 2,
      "outputs": [
        {
          "output_type": "stream",
          "text": [
            "--2019-10-20 14:09:05--  http://staging.robwil.io/data.pkl\n",
            "Resolving staging.robwil.io (staging.robwil.io)... 104.31.77.239, 104.31.76.239, 2606:4700:30::681f:4def, ...\n",
            "Connecting to staging.robwil.io (staging.robwil.io)|104.31.77.239|:80... connected.\n",
            "HTTP request sent, awaiting response... 200 OK\n",
            "Length: 504588789 (481M) [application/octet-stream]\n",
            "Saving to: ‘data.pkl’\n",
            "\n",
            "data.pkl            100%[===================>] 481.21M   127MB/s    in 3.9s    \n",
            "\n",
            "2019-10-20 14:09:09 (123 MB/s) - ‘data.pkl’ saved [504588789/504588789]\n",
            "\n"
          ],
          "name": "stdout"
        }
      ]
    },
    {
      "cell_type": "code",
      "metadata": {
        "id": "d5hBsK3N7Hlu",
        "colab_type": "code",
        "colab": {}
      },
      "source": [
        "matrix = pd.read_pickle('data.pkl')"
      ],
      "execution_count": 0,
      "outputs": []
    },
    {
      "cell_type": "code",
      "metadata": {
        "id": "774WtLXjODHB",
        "colab_type": "code",
        "colab": {}
      },
      "source": [
        "matrix = matrix.astype({'item_cnt_month':'float32','item_cnt_month_lag_1':'float32','item_cnt_month_lag_2':'float32','item_cnt_month_lag_3':'float32','item_cnt_month_lag_6':'float32','item_cnt_month_lag_12':'float32','date_avg_item_cnt_lag_1':'float32','date_item_avg_item_cnt_lag_1':'float32','date_item_avg_item_cnt_lag_2':'float32','date_item_avg_item_cnt_lag_3':'float32','date_item_avg_item_cnt_lag_6':'float32','date_item_avg_item_cnt_lag_12':'float32','date_shop_avg_item_cnt_lag_1':'float32','date_shop_avg_item_cnt_lag_2':'float32','date_shop_avg_item_cnt_lag_3':'float32','date_shop_avg_item_cnt_lag_6':'float32','date_shop_avg_item_cnt_lag_12':'float32','date_cat_avg_item_cnt_lag_1':'float32','date_shop_cat_avg_item_cnt_lag_1':'float32','date_shop_type_avg_item_cnt_lag_1':'float32','date_shop_subtype_avg_item_cnt_lag_1':'float32','date_city_avg_item_cnt_lag_1':'float32','date_item_city_avg_item_cnt_lag_1':'float32','date_type_avg_item_cnt_lag_1':'float32','date_subtype_avg_item_cnt_lag_1':'float32','delta_price_lag':'float32','delta_revenue_lag_1':'float32'})"
      ],
      "execution_count": 0,
      "outputs": []
    },
    {
      "cell_type": "code",
      "metadata": {
        "id": "CO7oV-je7LA_",
        "colab_type": "code",
        "colab": {
          "base_uri": "https://localhost:8080/",
          "height": 136
        },
        "outputId": "692dc13d-61e4-428b-9169-d625a1c46a2c"
      },
      "source": [
        "df_train_full = matrix[matrix.date_block_num <= 33]\n",
        "df_train_full['is_valid'] = df_train_full.date_block_num == 33\n",
        "df_train = df_train_full.iloc[::90, :]\n",
        "#df_valid = matrix[matrix.date_block_num == 33]\n",
        "df_test = matrix[matrix.date_block_num == 34]\n",
        "\n",
        "df_train_full.shape, df_train.shape, df_test.shape\n"
      ],
      "execution_count": 5,
      "outputs": [
        {
          "output_type": "stream",
          "text": [
            "/usr/local/lib/python3.6/dist-packages/ipykernel_launcher.py:2: SettingWithCopyWarning: \n",
            "A value is trying to be set on a copy of a slice from a DataFrame.\n",
            "Try using .loc[row_indexer,col_indexer] = value instead\n",
            "\n",
            "See the caveats in the documentation: http://pandas.pydata.org/pandas-docs/stable/indexing.html#indexing-view-versus-copy\n",
            "  \n"
          ],
          "name": "stderr"
        },
        {
          "output_type": "execute_result",
          "data": {
            "text/plain": [
              "((6425094, 41), (71390, 41), (214200, 40))"
            ]
          },
          "metadata": {
            "tags": []
          },
          "execution_count": 5
        }
      ]
    },
    {
      "cell_type": "code",
      "metadata": {
        "colab_type": "code",
        "outputId": "f437a166-a6d8-46c2-e846-26537199c177",
        "id": "weWW5NIzFlSC",
        "colab": {
          "base_uri": "https://localhost:8080/",
          "height": 731
        }
      },
      "source": [
        "df_train.dtypes"
      ],
      "execution_count": 6,
      "outputs": [
        {
          "output_type": "execute_result",
          "data": {
            "text/plain": [
              "date_block_num                             int8\n",
              "shop_id                                    int8\n",
              "item_id                                   int16\n",
              "item_cnt_month                          float32\n",
              "city_code                                  int8\n",
              "item_category_id                           int8\n",
              "type_code                                  int8\n",
              "subtype_code                               int8\n",
              "item_cnt_month_lag_1                    float32\n",
              "item_cnt_month_lag_2                    float32\n",
              "item_cnt_month_lag_3                    float32\n",
              "item_cnt_month_lag_6                    float32\n",
              "item_cnt_month_lag_12                   float32\n",
              "date_avg_item_cnt_lag_1                 float32\n",
              "date_item_avg_item_cnt_lag_1            float32\n",
              "date_item_avg_item_cnt_lag_2            float32\n",
              "date_item_avg_item_cnt_lag_3            float32\n",
              "date_item_avg_item_cnt_lag_6            float32\n",
              "date_item_avg_item_cnt_lag_12           float32\n",
              "date_shop_avg_item_cnt_lag_1            float32\n",
              "date_shop_avg_item_cnt_lag_2            float32\n",
              "date_shop_avg_item_cnt_lag_3            float32\n",
              "date_shop_avg_item_cnt_lag_6            float32\n",
              "date_shop_avg_item_cnt_lag_12           float32\n",
              "date_cat_avg_item_cnt_lag_1             float32\n",
              "date_shop_cat_avg_item_cnt_lag_1        float32\n",
              "date_shop_type_avg_item_cnt_lag_1       float32\n",
              "date_shop_subtype_avg_item_cnt_lag_1    float32\n",
              "date_city_avg_item_cnt_lag_1            float32\n",
              "date_item_city_avg_item_cnt_lag_1       float32\n",
              "date_type_avg_item_cnt_lag_1            float32\n",
              "date_subtype_avg_item_cnt_lag_1         float32\n",
              "delta_price_lag                         float32\n",
              "delta_revenue_lag_1                     float32\n",
              "month                                      int8\n",
              "days                                       int8\n",
              "item_shop_last_sale                        int8\n",
              "item_last_sale                             int8\n",
              "item_shop_first_sale                       int8\n",
              "item_first_sale                            int8\n",
              "is_valid                                   bool\n",
              "dtype: object"
            ]
          },
          "metadata": {
            "tags": []
          },
          "execution_count": 6
        }
      ]
    },
    {
      "cell_type": "code",
      "metadata": {
        "id": "_U7DwfQxBJNi",
        "colab_type": "code",
        "colab": {
          "base_uri": "https://localhost:8080/",
          "height": 224
        },
        "outputId": "1fc7e38c-3747-4107-b7ee-55e05cd65309"
      },
      "source": [
        "df_train.head()"
      ],
      "execution_count": 7,
      "outputs": [
        {
          "output_type": "execute_result",
          "data": {
            "text/html": [
              "<div>\n",
              "<style scoped>\n",
              "    .dataframe tbody tr th:only-of-type {\n",
              "        vertical-align: middle;\n",
              "    }\n",
              "\n",
              "    .dataframe tbody tr th {\n",
              "        vertical-align: top;\n",
              "    }\n",
              "\n",
              "    .dataframe thead th {\n",
              "        text-align: right;\n",
              "    }\n",
              "</style>\n",
              "<table border=\"1\" class=\"dataframe\">\n",
              "  <thead>\n",
              "    <tr style=\"text-align: right;\">\n",
              "      <th></th>\n",
              "      <th>date_block_num</th>\n",
              "      <th>shop_id</th>\n",
              "      <th>item_id</th>\n",
              "      <th>item_cnt_month</th>\n",
              "      <th>city_code</th>\n",
              "      <th>item_category_id</th>\n",
              "      <th>type_code</th>\n",
              "      <th>subtype_code</th>\n",
              "      <th>item_cnt_month_lag_1</th>\n",
              "      <th>item_cnt_month_lag_2</th>\n",
              "      <th>item_cnt_month_lag_3</th>\n",
              "      <th>item_cnt_month_lag_6</th>\n",
              "      <th>item_cnt_month_lag_12</th>\n",
              "      <th>date_avg_item_cnt_lag_1</th>\n",
              "      <th>date_item_avg_item_cnt_lag_1</th>\n",
              "      <th>date_item_avg_item_cnt_lag_2</th>\n",
              "      <th>date_item_avg_item_cnt_lag_3</th>\n",
              "      <th>date_item_avg_item_cnt_lag_6</th>\n",
              "      <th>date_item_avg_item_cnt_lag_12</th>\n",
              "      <th>date_shop_avg_item_cnt_lag_1</th>\n",
              "      <th>date_shop_avg_item_cnt_lag_2</th>\n",
              "      <th>date_shop_avg_item_cnt_lag_3</th>\n",
              "      <th>date_shop_avg_item_cnt_lag_6</th>\n",
              "      <th>date_shop_avg_item_cnt_lag_12</th>\n",
              "      <th>date_cat_avg_item_cnt_lag_1</th>\n",
              "      <th>date_shop_cat_avg_item_cnt_lag_1</th>\n",
              "      <th>date_shop_type_avg_item_cnt_lag_1</th>\n",
              "      <th>date_shop_subtype_avg_item_cnt_lag_1</th>\n",
              "      <th>date_city_avg_item_cnt_lag_1</th>\n",
              "      <th>date_item_city_avg_item_cnt_lag_1</th>\n",
              "      <th>date_type_avg_item_cnt_lag_1</th>\n",
              "      <th>date_subtype_avg_item_cnt_lag_1</th>\n",
              "      <th>delta_price_lag</th>\n",
              "      <th>delta_revenue_lag_1</th>\n",
              "      <th>month</th>\n",
              "      <th>days</th>\n",
              "      <th>item_shop_last_sale</th>\n",
              "      <th>item_last_sale</th>\n",
              "      <th>item_shop_first_sale</th>\n",
              "      <th>item_first_sale</th>\n",
              "      <th>is_valid</th>\n",
              "    </tr>\n",
              "  </thead>\n",
              "  <tbody>\n",
              "    <tr>\n",
              "      <th>4488710</th>\n",
              "      <td>12</td>\n",
              "      <td>2</td>\n",
              "      <td>27</td>\n",
              "      <td>0.0</td>\n",
              "      <td>0</td>\n",
              "      <td>19</td>\n",
              "      <td>5</td>\n",
              "      <td>10</td>\n",
              "      <td>0.0</td>\n",
              "      <td>0.0</td>\n",
              "      <td>0.0</td>\n",
              "      <td>0.0</td>\n",
              "      <td>1.0</td>\n",
              "      <td>0.411377</td>\n",
              "      <td>0.086975</td>\n",
              "      <td>0.044434</td>\n",
              "      <td>0.130493</td>\n",
              "      <td>0.065247</td>\n",
              "      <td>0.155518</td>\n",
              "      <td>0.148071</td>\n",
              "      <td>0.100647</td>\n",
              "      <td>0.08905</td>\n",
              "      <td>0.096008</td>\n",
              "      <td>0.141235</td>\n",
              "      <td>1.082031</td>\n",
              "      <td>0.955566</td>\n",
              "      <td>0.808594</td>\n",
              "      <td>0.935059</td>\n",
              "      <td>0.148071</td>\n",
              "      <td>0.0</td>\n",
              "      <td>1.034180</td>\n",
              "      <td>1.075195</td>\n",
              "      <td>-0.282715</td>\n",
              "      <td>1.211914</td>\n",
              "      <td>0</td>\n",
              "      <td>31</td>\n",
              "      <td>1</td>\n",
              "      <td>1</td>\n",
              "      <td>12</td>\n",
              "      <td>12</td>\n",
              "      <td>False</td>\n",
              "    </tr>\n",
              "    <tr>\n",
              "      <th>4488800</th>\n",
              "      <td>12</td>\n",
              "      <td>2</td>\n",
              "      <td>485</td>\n",
              "      <td>1.0</td>\n",
              "      <td>0</td>\n",
              "      <td>73</td>\n",
              "      <td>15</td>\n",
              "      <td>0</td>\n",
              "      <td>1.0</td>\n",
              "      <td>0.0</td>\n",
              "      <td>4.0</td>\n",
              "      <td>2.0</td>\n",
              "      <td>0.0</td>\n",
              "      <td>0.411377</td>\n",
              "      <td>2.412109</td>\n",
              "      <td>3.355469</td>\n",
              "      <td>3.716797</td>\n",
              "      <td>3.087891</td>\n",
              "      <td>0.000000</td>\n",
              "      <td>0.148071</td>\n",
              "      <td>0.100647</td>\n",
              "      <td>0.08905</td>\n",
              "      <td>0.096008</td>\n",
              "      <td>0.000000</td>\n",
              "      <td>0.407227</td>\n",
              "      <td>0.136353</td>\n",
              "      <td>0.083984</td>\n",
              "      <td>0.136353</td>\n",
              "      <td>0.148071</td>\n",
              "      <td>1.0</td>\n",
              "      <td>0.234741</td>\n",
              "      <td>0.407227</td>\n",
              "      <td>0.005901</td>\n",
              "      <td>1.211914</td>\n",
              "      <td>0</td>\n",
              "      <td>31</td>\n",
              "      <td>1</td>\n",
              "      <td>1</td>\n",
              "      <td>10</td>\n",
              "      <td>10</td>\n",
              "      <td>False</td>\n",
              "    </tr>\n",
              "    <tr>\n",
              "      <th>4488890</th>\n",
              "      <td>12</td>\n",
              "      <td>2</td>\n",
              "      <td>868</td>\n",
              "      <td>0.0</td>\n",
              "      <td>0</td>\n",
              "      <td>78</td>\n",
              "      <td>15</td>\n",
              "      <td>45</td>\n",
              "      <td>0.0</td>\n",
              "      <td>0.0</td>\n",
              "      <td>0.0</td>\n",
              "      <td>0.0</td>\n",
              "      <td>0.0</td>\n",
              "      <td>0.411377</td>\n",
              "      <td>0.021744</td>\n",
              "      <td>0.199951</td>\n",
              "      <td>0.086975</td>\n",
              "      <td>0.021744</td>\n",
              "      <td>0.000000</td>\n",
              "      <td>0.148071</td>\n",
              "      <td>0.100647</td>\n",
              "      <td>0.08905</td>\n",
              "      <td>0.096008</td>\n",
              "      <td>0.000000</td>\n",
              "      <td>0.031799</td>\n",
              "      <td>0.000000</td>\n",
              "      <td>0.083984</td>\n",
              "      <td>0.000000</td>\n",
              "      <td>0.148071</td>\n",
              "      <td>0.0</td>\n",
              "      <td>0.234741</td>\n",
              "      <td>0.031799</td>\n",
              "      <td>0.015022</td>\n",
              "      <td>1.211914</td>\n",
              "      <td>0</td>\n",
              "      <td>31</td>\n",
              "      <td>-1</td>\n",
              "      <td>1</td>\n",
              "      <td>7</td>\n",
              "      <td>7</td>\n",
              "      <td>False</td>\n",
              "    </tr>\n",
              "    <tr>\n",
              "      <th>4488980</th>\n",
              "      <td>12</td>\n",
              "      <td>2</td>\n",
              "      <td>1067</td>\n",
              "      <td>0.0</td>\n",
              "      <td>0</td>\n",
              "      <td>77</td>\n",
              "      <td>15</td>\n",
              "      <td>44</td>\n",
              "      <td>0.0</td>\n",
              "      <td>0.0</td>\n",
              "      <td>0.0</td>\n",
              "      <td>0.0</td>\n",
              "      <td>1.0</td>\n",
              "      <td>0.000000</td>\n",
              "      <td>0.000000</td>\n",
              "      <td>0.000000</td>\n",
              "      <td>0.000000</td>\n",
              "      <td>0.000000</td>\n",
              "      <td>0.244385</td>\n",
              "      <td>0.000000</td>\n",
              "      <td>0.000000</td>\n",
              "      <td>0.00000</td>\n",
              "      <td>0.000000</td>\n",
              "      <td>0.141235</td>\n",
              "      <td>0.000000</td>\n",
              "      <td>0.000000</td>\n",
              "      <td>0.000000</td>\n",
              "      <td>0.000000</td>\n",
              "      <td>0.000000</td>\n",
              "      <td>0.0</td>\n",
              "      <td>0.000000</td>\n",
              "      <td>0.000000</td>\n",
              "      <td>0.000000</td>\n",
              "      <td>0.000000</td>\n",
              "      <td>0</td>\n",
              "      <td>31</td>\n",
              "      <td>4</td>\n",
              "      <td>4</td>\n",
              "      <td>12</td>\n",
              "      <td>12</td>\n",
              "      <td>False</td>\n",
              "    </tr>\n",
              "    <tr>\n",
              "      <th>4489070</th>\n",
              "      <td>12</td>\n",
              "      <td>2</td>\n",
              "      <td>1409</td>\n",
              "      <td>0.0</td>\n",
              "      <td>0</td>\n",
              "      <td>19</td>\n",
              "      <td>5</td>\n",
              "      <td>10</td>\n",
              "      <td>0.0</td>\n",
              "      <td>0.0</td>\n",
              "      <td>0.0</td>\n",
              "      <td>0.0</td>\n",
              "      <td>1.0</td>\n",
              "      <td>0.411377</td>\n",
              "      <td>0.043488</td>\n",
              "      <td>0.022217</td>\n",
              "      <td>0.021744</td>\n",
              "      <td>0.086975</td>\n",
              "      <td>0.666504</td>\n",
              "      <td>0.148071</td>\n",
              "      <td>0.100647</td>\n",
              "      <td>0.08905</td>\n",
              "      <td>0.096008</td>\n",
              "      <td>0.141235</td>\n",
              "      <td>1.082031</td>\n",
              "      <td>0.955566</td>\n",
              "      <td>0.808594</td>\n",
              "      <td>0.935059</td>\n",
              "      <td>0.148071</td>\n",
              "      <td>0.0</td>\n",
              "      <td>1.034180</td>\n",
              "      <td>1.075195</td>\n",
              "      <td>-0.009445</td>\n",
              "      <td>1.211914</td>\n",
              "      <td>0</td>\n",
              "      <td>31</td>\n",
              "      <td>1</td>\n",
              "      <td>1</td>\n",
              "      <td>12</td>\n",
              "      <td>12</td>\n",
              "      <td>False</td>\n",
              "    </tr>\n",
              "  </tbody>\n",
              "</table>\n",
              "</div>"
            ],
            "text/plain": [
              "         date_block_num  shop_id  ...  item_first_sale  is_valid\n",
              "4488710              12        2  ...               12     False\n",
              "4488800              12        2  ...               10     False\n",
              "4488890              12        2  ...                7     False\n",
              "4488980              12        2  ...               12     False\n",
              "4489070              12        2  ...               12     False\n",
              "\n",
              "[5 rows x 41 columns]"
            ]
          },
          "metadata": {
            "tags": []
          },
          "execution_count": 7
        }
      ]
    },
    {
      "cell_type": "code",
      "metadata": {
        "id": "8_tV2Hv47Xpy",
        "colab_type": "code",
        "colab": {
          "base_uri": "https://localhost:8080/",
          "height": 323
        },
        "outputId": "d57a1096-fcd1-4a3c-e4bd-174d6de04860"
      },
      "source": [
        "df_train.columns"
      ],
      "execution_count": 8,
      "outputs": [
        {
          "output_type": "execute_result",
          "data": {
            "text/plain": [
              "Index(['date_block_num', 'shop_id', 'item_id', 'item_cnt_month', 'city_code',\n",
              "       'item_category_id', 'type_code', 'subtype_code', 'item_cnt_month_lag_1',\n",
              "       'item_cnt_month_lag_2', 'item_cnt_month_lag_3', 'item_cnt_month_lag_6',\n",
              "       'item_cnt_month_lag_12', 'date_avg_item_cnt_lag_1',\n",
              "       'date_item_avg_item_cnt_lag_1', 'date_item_avg_item_cnt_lag_2',\n",
              "       'date_item_avg_item_cnt_lag_3', 'date_item_avg_item_cnt_lag_6',\n",
              "       'date_item_avg_item_cnt_lag_12', 'date_shop_avg_item_cnt_lag_1',\n",
              "       'date_shop_avg_item_cnt_lag_2', 'date_shop_avg_item_cnt_lag_3',\n",
              "       'date_shop_avg_item_cnt_lag_6', 'date_shop_avg_item_cnt_lag_12',\n",
              "       'date_cat_avg_item_cnt_lag_1', 'date_shop_cat_avg_item_cnt_lag_1',\n",
              "       'date_shop_type_avg_item_cnt_lag_1',\n",
              "       'date_shop_subtype_avg_item_cnt_lag_1', 'date_city_avg_item_cnt_lag_1',\n",
              "       'date_item_city_avg_item_cnt_lag_1', 'date_type_avg_item_cnt_lag_1',\n",
              "       'date_subtype_avg_item_cnt_lag_1', 'delta_price_lag',\n",
              "       'delta_revenue_lag_1', 'month', 'days', 'item_shop_last_sale',\n",
              "       'item_last_sale', 'item_shop_first_sale', 'item_first_sale',\n",
              "       'is_valid'],\n",
              "      dtype='object')"
            ]
          },
          "metadata": {
            "tags": []
          },
          "execution_count": 8
        }
      ]
    },
    {
      "cell_type": "code",
      "metadata": {
        "id": "nfs_c3Gg7NKf",
        "colab_type": "code",
        "colab": {}
      },
      "source": [
        "dep_var = 'item_cnt_month'\n",
        "cat_names = ['month', 'shop_id', 'item_id', 'city_code', 'item_category_id','type_code', 'subtype_code']\n",
        "cont_names = ['date_block_num',\n",
        "        'item_cnt_month_lag_1',\n",
        "       'item_cnt_month_lag_2', 'item_cnt_month_lag_3', 'item_cnt_month_lag_6',\n",
        "       'item_cnt_month_lag_12', 'date_avg_item_cnt_lag_1',\n",
        "       'date_item_avg_item_cnt_lag_1', 'date_item_avg_item_cnt_lag_2',\n",
        "       'date_item_avg_item_cnt_lag_3', 'date_item_avg_item_cnt_lag_6',\n",
        "       'date_item_avg_item_cnt_lag_12', 'date_shop_avg_item_cnt_lag_1',\n",
        "       'date_shop_avg_item_cnt_lag_2', 'date_shop_avg_item_cnt_lag_3',\n",
        "       'date_shop_avg_item_cnt_lag_6', 'date_shop_avg_item_cnt_lag_12',\n",
        "       'date_cat_avg_item_cnt_lag_1', 'date_shop_cat_avg_item_cnt_lag_1',\n",
        "       'date_shop_type_avg_item_cnt_lag_1',\n",
        "       'date_shop_subtype_avg_item_cnt_lag_1', 'date_city_avg_item_cnt_lag_1',\n",
        "       'date_item_city_avg_item_cnt_lag_1', 'date_type_avg_item_cnt_lag_1',\n",
        "       'date_subtype_avg_item_cnt_lag_1', 'delta_price_lag',\n",
        "       'delta_revenue_lag_1', 'days', 'item_shop_last_sale',\n",
        "       'item_last_sale', 'item_shop_first_sale', 'item_first_sale']\n",
        "procs = [FillMissing, Categorify, Normalize]\n",
        "y_range = [0, np.max(matrix[dep_var])*1.2]"
      ],
      "execution_count": 0,
      "outputs": []
    },
    {
      "cell_type": "code",
      "metadata": {
        "id": "LzwON89S7ylM",
        "colab_type": "code",
        "colab": {}
      },
      "source": [
        "test = TabularList.from_df(df_test, cat_names=cat_names, cont_names=cont_names)"
      ],
      "execution_count": 0,
      "outputs": []
    },
    {
      "cell_type": "code",
      "metadata": {
        "id": "u8LvVSEy8BpZ",
        "colab_type": "code",
        "colab": {}
      },
      "source": [
        "data = (TabularList.from_df(df_train_full, cat_names=cat_names, cont_names=cont_names, procs=procs)\n",
        "                           .split_from_df('is_valid')\n",
        "                           .label_from_df(cols=dep_var, label_cls = FloatList)\n",
        "                           .add_test(test)\n",
        "                           .databunch())"
      ],
      "execution_count": 0,
      "outputs": []
    },
    {
      "cell_type": "code",
      "metadata": {
        "colab_type": "code",
        "outputId": "093f9da4-6666-49a0-d6a3-9e2ce8200553",
        "id": "wiGGk_knHR1i",
        "colab": {
          "base_uri": "https://localhost:8080/",
          "height": 379
        }
      },
      "source": [
        "data.show_batch(rows=10)"
      ],
      "execution_count": 12,
      "outputs": [
        {
          "output_type": "display_data",
          "data": {
            "text/html": [
              "<table border=\"1\" class=\"dataframe\">\n",
              "  <thead>\n",
              "    <tr style=\"text-align: right;\">\n",
              "      <th>month</th>\n",
              "      <th>shop_id</th>\n",
              "      <th>item_id</th>\n",
              "      <th>city_code</th>\n",
              "      <th>item_category_id</th>\n",
              "      <th>type_code</th>\n",
              "      <th>subtype_code</th>\n",
              "      <th>date_block_num</th>\n",
              "      <th>item_cnt_month_lag_1</th>\n",
              "      <th>item_cnt_month_lag_2</th>\n",
              "      <th>item_cnt_month_lag_3</th>\n",
              "      <th>item_cnt_month_lag_6</th>\n",
              "      <th>item_cnt_month_lag_12</th>\n",
              "      <th>date_avg_item_cnt_lag_1</th>\n",
              "      <th>date_item_avg_item_cnt_lag_1</th>\n",
              "      <th>date_item_avg_item_cnt_lag_2</th>\n",
              "      <th>date_item_avg_item_cnt_lag_3</th>\n",
              "      <th>date_item_avg_item_cnt_lag_6</th>\n",
              "      <th>date_item_avg_item_cnt_lag_12</th>\n",
              "      <th>date_shop_avg_item_cnt_lag_1</th>\n",
              "      <th>date_shop_avg_item_cnt_lag_2</th>\n",
              "      <th>date_shop_avg_item_cnt_lag_3</th>\n",
              "      <th>date_shop_avg_item_cnt_lag_6</th>\n",
              "      <th>date_shop_avg_item_cnt_lag_12</th>\n",
              "      <th>date_cat_avg_item_cnt_lag_1</th>\n",
              "      <th>date_shop_cat_avg_item_cnt_lag_1</th>\n",
              "      <th>date_shop_type_avg_item_cnt_lag_1</th>\n",
              "      <th>date_shop_subtype_avg_item_cnt_lag_1</th>\n",
              "      <th>date_city_avg_item_cnt_lag_1</th>\n",
              "      <th>date_item_city_avg_item_cnt_lag_1</th>\n",
              "      <th>date_type_avg_item_cnt_lag_1</th>\n",
              "      <th>date_subtype_avg_item_cnt_lag_1</th>\n",
              "      <th>delta_price_lag</th>\n",
              "      <th>delta_revenue_lag_1</th>\n",
              "      <th>days</th>\n",
              "      <th>item_shop_last_sale</th>\n",
              "      <th>item_last_sale</th>\n",
              "      <th>item_shop_first_sale</th>\n",
              "      <th>item_first_sale</th>\n",
              "      <th>target</th>\n",
              "    </tr>\n",
              "  </thead>\n",
              "  <tbody>\n",
              "    <tr>\n",
              "      <td>1</td>\n",
              "      <td>42</td>\n",
              "      <td>20511</td>\n",
              "      <td>19</td>\n",
              "      <td>72</td>\n",
              "      <td>14</td>\n",
              "      <td>59</td>\n",
              "      <td>-1.3899</td>\n",
              "      <td>-0.2461</td>\n",
              "      <td>-0.2439</td>\n",
              "      <td>-0.2414</td>\n",
              "      <td>-0.2343</td>\n",
              "      <td>-0.2102</td>\n",
              "      <td>0.6144</td>\n",
              "      <td>-0.3253</td>\n",
              "      <td>-0.3196</td>\n",
              "      <td>-0.2875</td>\n",
              "      <td>-0.2752</td>\n",
              "      <td>-0.2842</td>\n",
              "      <td>1.0260</td>\n",
              "      <td>1.9781</td>\n",
              "      <td>0.9814</td>\n",
              "      <td>1.0586</td>\n",
              "      <td>-0.6895</td>\n",
              "      <td>0.0249</td>\n",
              "      <td>0.8117</td>\n",
              "      <td>1.1108</td>\n",
              "      <td>0.8270</td>\n",
              "      <td>0.5531</td>\n",
              "      <td>-0.2780</td>\n",
              "      <td>0.2484</td>\n",
              "      <td>0.0278</td>\n",
              "      <td>-1.1851</td>\n",
              "      <td>-0.8380</td>\n",
              "      <td>-2.6150</td>\n",
              "      <td>0.6127</td>\n",
              "      <td>-0.1200</td>\n",
              "      <td>-0.3784</td>\n",
              "      <td>-0.4766</td>\n",
              "      <td>0.0</td>\n",
              "    </tr>\n",
              "    <tr>\n",
              "      <td>8</td>\n",
              "      <td>7</td>\n",
              "      <td>13494</td>\n",
              "      <td>4</td>\n",
              "      <td>11</td>\n",
              "      <td>4</td>\n",
              "      <td>10</td>\n",
              "      <td>1.8472</td>\n",
              "      <td>-0.2461</td>\n",
              "      <td>-0.2439</td>\n",
              "      <td>-0.2414</td>\n",
              "      <td>0.5744</td>\n",
              "      <td>-0.2102</td>\n",
              "      <td>0.4331</td>\n",
              "      <td>-0.0942</td>\n",
              "      <td>0.0657</td>\n",
              "      <td>0.0385</td>\n",
              "      <td>0.1453</td>\n",
              "      <td>-0.2842</td>\n",
              "      <td>0.1396</td>\n",
              "      <td>0.0469</td>\n",
              "      <td>0.0392</td>\n",
              "      <td>0.1095</td>\n",
              "      <td>-0.6895</td>\n",
              "      <td>-0.0863</td>\n",
              "      <td>-0.4379</td>\n",
              "      <td>0.0641</td>\n",
              "      <td>1.0050</td>\n",
              "      <td>0.2573</td>\n",
              "      <td>-0.2780</td>\n",
              "      <td>0.3210</td>\n",
              "      <td>0.8794</td>\n",
              "      <td>0.1625</td>\n",
              "      <td>-0.7701</td>\n",
              "      <td>-0.4203</td>\n",
              "      <td>0.6127</td>\n",
              "      <td>-0.1200</td>\n",
              "      <td>-0.3784</td>\n",
              "      <td>-0.4766</td>\n",
              "      <td>0.0</td>\n",
              "    </tr>\n",
              "    <tr>\n",
              "      <td>5</td>\n",
              "      <td>19</td>\n",
              "      <td>8961</td>\n",
              "      <td>12</td>\n",
              "      <td>40</td>\n",
              "      <td>11</td>\n",
              "      <td>4</td>\n",
              "      <td>1.3361</td>\n",
              "      <td>-0.2461</td>\n",
              "      <td>0.5814</td>\n",
              "      <td>-0.2414</td>\n",
              "      <td>-0.2343</td>\n",
              "      <td>-0.2102</td>\n",
              "      <td>0.2099</td>\n",
              "      <td>-0.0513</td>\n",
              "      <td>0.1310</td>\n",
              "      <td>-0.1122</td>\n",
              "      <td>-0.3258</td>\n",
              "      <td>-0.2842</td>\n",
              "      <td>0.0443</td>\n",
              "      <td>0.0636</td>\n",
              "      <td>0.1285</td>\n",
              "      <td>-0.8719</td>\n",
              "      <td>-0.6895</td>\n",
              "      <td>-0.0559</td>\n",
              "      <td>-0.0264</td>\n",
              "      <td>-0.1683</td>\n",
              "      <td>-0.0267</td>\n",
              "      <td>0.0585</td>\n",
              "      <td>-0.2780</td>\n",
              "      <td>-0.1936</td>\n",
              "      <td>-0.0544</td>\n",
              "      <td>0.2610</td>\n",
              "      <td>-0.5372</td>\n",
              "      <td>-0.4203</td>\n",
              "      <td>0.6127</td>\n",
              "      <td>-0.1200</td>\n",
              "      <td>-1.1227</td>\n",
              "      <td>-1.2180</td>\n",
              "      <td>0.0</td>\n",
              "    </tr>\n",
              "    <tr>\n",
              "      <td>4</td>\n",
              "      <td>5</td>\n",
              "      <td>13981</td>\n",
              "      <td>3</td>\n",
              "      <td>41</td>\n",
              "      <td>11</td>\n",
              "      <td>35</td>\n",
              "      <td>-0.8788</td>\n",
              "      <td>-0.2461</td>\n",
              "      <td>-0.2439</td>\n",
              "      <td>-0.2414</td>\n",
              "      <td>-0.2343</td>\n",
              "      <td>-0.2102</td>\n",
              "      <td>-1.8185</td>\n",
              "      <td>-0.3514</td>\n",
              "      <td>-0.2962</td>\n",
              "      <td>-0.2886</td>\n",
              "      <td>-0.3258</td>\n",
              "      <td>-0.2842</td>\n",
              "      <td>-1.0113</td>\n",
              "      <td>-0.1399</td>\n",
              "      <td>-0.2296</td>\n",
              "      <td>-0.8719</td>\n",
              "      <td>-0.6895</td>\n",
              "      <td>-0.5803</td>\n",
              "      <td>-0.4379</td>\n",
              "      <td>-0.6377</td>\n",
              "      <td>-0.4458</td>\n",
              "      <td>-1.2453</td>\n",
              "      <td>-0.2780</td>\n",
              "      <td>-0.9348</td>\n",
              "      <td>-0.5879</td>\n",
              "      <td>0.1806</td>\n",
              "      <td>-0.1315</td>\n",
              "      <td>0.6770</td>\n",
              "      <td>1.3657</td>\n",
              "      <td>-0.1200</td>\n",
              "      <td>-0.8746</td>\n",
              "      <td>-0.9709</td>\n",
              "      <td>0.0</td>\n",
              "    </tr>\n",
              "    <tr>\n",
              "      <td>7</td>\n",
              "      <td>55</td>\n",
              "      <td>15493</td>\n",
              "      <td>27</td>\n",
              "      <td>63</td>\n",
              "      <td>14</td>\n",
              "      <td>41</td>\n",
              "      <td>1.6769</td>\n",
              "      <td>-0.2461</td>\n",
              "      <td>-0.2439</td>\n",
              "      <td>-0.2414</td>\n",
              "      <td>-0.2343</td>\n",
              "      <td>-0.2102</td>\n",
              "      <td>0.2080</td>\n",
              "      <td>1.7987</td>\n",
              "      <td>0.9695</td>\n",
              "      <td>-0.2336</td>\n",
              "      <td>-0.3258</td>\n",
              "      <td>-0.2842</td>\n",
              "      <td>0.0380</td>\n",
              "      <td>0.1614</td>\n",
              "      <td>0.1901</td>\n",
              "      <td>-0.8719</td>\n",
              "      <td>-0.6895</td>\n",
              "      <td>0.4330</td>\n",
              "      <td>-0.4379</td>\n",
              "      <td>-0.6377</td>\n",
              "      <td>-0.4458</td>\n",
              "      <td>0.0508</td>\n",
              "      <td>-0.2780</td>\n",
              "      <td>0.2446</td>\n",
              "      <td>0.4430</td>\n",
              "      <td>0.0235</td>\n",
              "      <td>-0.7190</td>\n",
              "      <td>0.6770</td>\n",
              "      <td>-0.8934</td>\n",
              "      <td>-0.1200</td>\n",
              "      <td>-1.1227</td>\n",
              "      <td>-1.2180</td>\n",
              "      <td>0.0</td>\n",
              "    </tr>\n",
              "    <tr>\n",
              "      <td>3</td>\n",
              "      <td>24</td>\n",
              "      <td>20958</td>\n",
              "      <td>13</td>\n",
              "      <td>30</td>\n",
              "      <td>8</td>\n",
              "      <td>55</td>\n",
              "      <td>-1.0491</td>\n",
              "      <td>-0.2461</td>\n",
              "      <td>-0.2439</td>\n",
              "      <td>-0.2414</td>\n",
              "      <td>1.3831</td>\n",
              "      <td>-0.2102</td>\n",
              "      <td>-1.8185</td>\n",
              "      <td>-0.3514</td>\n",
              "      <td>-0.3453</td>\n",
              "      <td>-0.2886</td>\n",
              "      <td>-0.0779</td>\n",
              "      <td>-0.2842</td>\n",
              "      <td>-1.0113</td>\n",
              "      <td>-0.9813</td>\n",
              "      <td>0.3644</td>\n",
              "      <td>0.4604</td>\n",
              "      <td>-0.6895</td>\n",
              "      <td>-0.5803</td>\n",
              "      <td>-0.4379</td>\n",
              "      <td>-0.6377</td>\n",
              "      <td>-0.4458</td>\n",
              "      <td>-1.2453</td>\n",
              "      <td>-0.2780</td>\n",
              "      <td>-0.9348</td>\n",
              "      <td>-0.5879</td>\n",
              "      <td>0.1806</td>\n",
              "      <td>-0.1315</td>\n",
              "      <td>-0.4203</td>\n",
              "      <td>2.1187</td>\n",
              "      <td>-0.1200</td>\n",
              "      <td>-0.2544</td>\n",
              "      <td>-0.3530</td>\n",
              "      <td>0.0</td>\n",
              "    </tr>\n",
              "    <tr>\n",
              "      <td>9</td>\n",
              "      <td>28</td>\n",
              "      <td>14470</td>\n",
              "      <td>13</td>\n",
              "      <td>55</td>\n",
              "      <td>13</td>\n",
              "      <td>2</td>\n",
              "      <td>-0.0269</td>\n",
              "      <td>-0.2461</td>\n",
              "      <td>0.5814</td>\n",
              "      <td>-0.2414</td>\n",
              "      <td>-0.2343</td>\n",
              "      <td>-0.2102</td>\n",
              "      <td>0.3091</td>\n",
              "      <td>-0.1593</td>\n",
              "      <td>-0.0912</td>\n",
              "      <td>-0.1535</td>\n",
              "      <td>-0.0466</td>\n",
              "      <td>0.0035</td>\n",
              "      <td>1.5259</td>\n",
              "      <td>2.4197</td>\n",
              "      <td>1.6892</td>\n",
              "      <td>1.7086</td>\n",
              "      <td>2.0141</td>\n",
              "      <td>-0.1271</td>\n",
              "      <td>0.4826</td>\n",
              "      <td>0.3355</td>\n",
              "      <td>0.4917</td>\n",
              "      <td>1.0960</td>\n",
              "      <td>-0.1835</td>\n",
              "      <td>-0.3508</td>\n",
              "      <td>-0.1268</td>\n",
              "      <td>0.2759</td>\n",
              "      <td>0.0165</td>\n",
              "      <td>0.6770</td>\n",
              "      <td>0.6127</td>\n",
              "      <td>-0.1200</td>\n",
              "      <td>1.1102</td>\n",
              "      <td>1.0062</td>\n",
              "      <td>0.0</td>\n",
              "    </tr>\n",
              "    <tr>\n",
              "      <td>2</td>\n",
              "      <td>14</td>\n",
              "      <td>18974</td>\n",
              "      <td>8</td>\n",
              "      <td>40</td>\n",
              "      <td>11</td>\n",
              "      <td>4</td>\n",
              "      <td>0.8250</td>\n",
              "      <td>-0.2461</td>\n",
              "      <td>2.2319</td>\n",
              "      <td>0.5763</td>\n",
              "      <td>-0.2343</td>\n",
              "      <td>-0.2102</td>\n",
              "      <td>0.3549</td>\n",
              "      <td>1.3086</td>\n",
              "      <td>4.2491</td>\n",
              "      <td>4.0190</td>\n",
              "      <td>-0.3258</td>\n",
              "      <td>-0.2842</td>\n",
              "      <td>-0.3468</td>\n",
              "      <td>-0.1902</td>\n",
              "      <td>0.1462</td>\n",
              "      <td>-0.8719</td>\n",
              "      <td>-0.6895</td>\n",
              "      <td>-0.0005</td>\n",
              "      <td>-0.3452</td>\n",
              "      <td>-0.4274</td>\n",
              "      <td>-0.3514</td>\n",
              "      <td>-0.4246</td>\n",
              "      <td>-0.2780</td>\n",
              "      <td>-0.1396</td>\n",
              "      <td>0.0020</td>\n",
              "      <td>0.2239</td>\n",
              "      <td>-0.5685</td>\n",
              "      <td>0.6770</td>\n",
              "      <td>0.6127</td>\n",
              "      <td>-0.1200</td>\n",
              "      <td>-1.1227</td>\n",
              "      <td>-1.2180</td>\n",
              "      <td>0.0</td>\n",
              "    </tr>\n",
              "    <tr>\n",
              "      <td>5</td>\n",
              "      <td>52</td>\n",
              "      <td>718</td>\n",
              "      <td>25</td>\n",
              "      <td>78</td>\n",
              "      <td>15</td>\n",
              "      <td>45</td>\n",
              "      <td>1.3361</td>\n",
              "      <td>-0.2461</td>\n",
              "      <td>-0.2439</td>\n",
              "      <td>-0.2414</td>\n",
              "      <td>-0.2343</td>\n",
              "      <td>-0.2102</td>\n",
              "      <td>0.2099</td>\n",
              "      <td>-0.2969</td>\n",
              "      <td>-0.2450</td>\n",
              "      <td>-0.2886</td>\n",
              "      <td>-0.2574</td>\n",
              "      <td>-0.2597</td>\n",
              "      <td>-0.3260</td>\n",
              "      <td>-0.2053</td>\n",
              "      <td>-0.1263</td>\n",
              "      <td>0.5650</td>\n",
              "      <td>0.1186</td>\n",
              "      <td>-0.5188</td>\n",
              "      <td>-0.4379</td>\n",
              "      <td>-0.5099</td>\n",
              "      <td>-0.4458</td>\n",
              "      <td>-0.2811</td>\n",
              "      <td>-0.2780</td>\n",
              "      <td>-0.3360</td>\n",
              "      <td>-0.5253</td>\n",
              "      <td>0.1806</td>\n",
              "      <td>-0.8191</td>\n",
              "      <td>-0.4203</td>\n",
              "      <td>-0.8934</td>\n",
              "      <td>-0.1200</td>\n",
              "      <td>0.2418</td>\n",
              "      <td>0.1412</td>\n",
              "      <td>0.0</td>\n",
              "    </tr>\n",
              "    <tr>\n",
              "      <td>6</td>\n",
              "      <td>31</td>\n",
              "      <td>8818</td>\n",
              "      <td>13</td>\n",
              "      <td>65</td>\n",
              "      <td>14</td>\n",
              "      <td>43</td>\n",
              "      <td>-0.5380</td>\n",
              "      <td>-0.2461</td>\n",
              "      <td>-0.2439</td>\n",
              "      <td>0.5763</td>\n",
              "      <td>3.0004</td>\n",
              "      <td>-0.2102</td>\n",
              "      <td>0.3186</td>\n",
              "      <td>0.1876</td>\n",
              "      <td>-0.0088</td>\n",
              "      <td>0.0394</td>\n",
              "      <td>0.3931</td>\n",
              "      <td>-0.2842</td>\n",
              "      <td>3.2528</td>\n",
              "      <td>3.2924</td>\n",
              "      <td>3.7667</td>\n",
              "      <td>4.2073</td>\n",
              "      <td>-0.6895</td>\n",
              "      <td>1.0793</td>\n",
              "      <td>3.9803</td>\n",
              "      <td>2.0494</td>\n",
              "      <td>4.0542</td>\n",
              "      <td>1.0960</td>\n",
              "      <td>0.1946</td>\n",
              "      <td>0.1108</td>\n",
              "      <td>1.1004</td>\n",
              "      <td>0.1806</td>\n",
              "      <td>-0.7258</td>\n",
              "      <td>0.6770</td>\n",
              "      <td>0.6127</td>\n",
              "      <td>-0.1200</td>\n",
              "      <td>-0.5025</td>\n",
              "      <td>-0.6002</td>\n",
              "      <td>0.0</td>\n",
              "    </tr>\n",
              "  </tbody>\n",
              "</table>"
            ],
            "text/plain": [
              "<IPython.core.display.HTML object>"
            ]
          },
          "metadata": {
            "tags": []
          }
        }
      ]
    },
    {
      "cell_type": "code",
      "metadata": {
        "id": "uZxzLghWHbMy",
        "colab_type": "code",
        "colab": {}
      },
      "source": [
        "learn = tabular_learner(data, layers=[200,100], y_range=y_range, metrics=rmse)"
      ],
      "execution_count": 0,
      "outputs": []
    },
    {
      "cell_type": "code",
      "metadata": {
        "id": "eImrIiUFOT8J",
        "colab_type": "code",
        "colab": {
          "base_uri": "https://localhost:8080/",
          "height": 34
        },
        "outputId": "40e74963-9317-447d-f6c0-81f88da910d7"
      },
      "source": [
        "learn.lr_find()"
      ],
      "execution_count": 14,
      "outputs": [
        {
          "output_type": "display_data",
          "data": {
            "text/html": [
              ""
            ],
            "text/plain": [
              "<IPython.core.display.HTML object>"
            ]
          },
          "metadata": {
            "tags": []
          }
        },
        {
          "output_type": "stream",
          "text": [
            "LR Finder is complete, type {learner_name}.recorder.plot() to see the graph.\n"
          ],
          "name": "stdout"
        }
      ]
    },
    {
      "cell_type": "code",
      "metadata": {
        "id": "uH0JhRkIOZ9-",
        "colab_type": "code",
        "colab": {
          "base_uri": "https://localhost:8080/",
          "height": 283
        },
        "outputId": "c1dbd051-dcb7-49f0-c637-fefea0db88f0"
      },
      "source": [
        "learn.recorder.plot()"
      ],
      "execution_count": 15,
      "outputs": [
        {
          "output_type": "display_data",
          "data": {
            "image/png": "iVBORw0KGgoAAAANSUhEUgAAAYgAAAEKCAYAAAAIO8L1AAAABHNCSVQICAgIfAhkiAAAAAlwSFlz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\nAEFZAAAAAElFTkSuQmCC\n",
            "text/plain": [
              "<Figure size 432x288 with 1 Axes>"
            ]
          },
          "metadata": {
            "tags": []
          }
        }
      ]
    },
    {
      "cell_type": "code",
      "metadata": {
        "id": "dKW1F68tHeBg",
        "colab_type": "code",
        "colab": {
          "base_uri": "https://localhost:8080/",
          "height": 204
        },
        "outputId": "115a06de-d1db-408e-9b20-e5b0ea2b01ed"
      },
      "source": [
        "learn.fit_one_cycle(5, max_lr = 1e-1)"
      ],
      "execution_count": 16,
      "outputs": [
        {
          "output_type": "display_data",
          "data": {
            "text/html": [
              "<table border=\"1\" class=\"dataframe\">\n",
              "  <thead>\n",
              "    <tr style=\"text-align: left;\">\n",
              "      <th>epoch</th>\n",
              "      <th>train_loss</th>\n",
              "      <th>valid_loss</th>\n",
              "      <th>root_mean_squared_error</th>\n",
              "      <th>time</th>\n",
              "    </tr>\n",
              "  </thead>\n",
              "  <tbody>\n",
              "    <tr>\n",
              "      <td>0</td>\n",
              "      <td>2.140453</td>\n",
              "      <td>1.357704</td>\n",
              "      <td>0.785288</td>\n",
              "      <td>18:42</td>\n",
              "    </tr>\n",
              "    <tr>\n",
              "      <td>1</td>\n",
              "      <td>1.907206</td>\n",
              "      <td>1.357704</td>\n",
              "      <td>0.785288</td>\n",
              "      <td>18:50</td>\n",
              "    </tr>\n",
              "    <tr>\n",
              "      <td>2</td>\n",
              "      <td>1.214844</td>\n",
              "      <td>1.357704</td>\n",
              "      <td>0.785288</td>\n",
              "      <td>18:52</td>\n",
              "    </tr>\n",
              "    <tr>\n",
              "      <td>3</td>\n",
              "      <td>1.709300</td>\n",
              "      <td>1.357704</td>\n",
              "      <td>0.785288</td>\n",
              "      <td>18:52</td>\n",
              "    </tr>\n",
              "    <tr>\n",
              "      <td>4</td>\n",
              "      <td>0.484430</td>\n",
              "      <td>1.190429</td>\n",
              "      <td>0.750379</td>\n",
              "      <td>18:38</td>\n",
              "    </tr>\n",
              "  </tbody>\n",
              "</table>"
            ],
            "text/plain": [
              "<IPython.core.display.HTML object>"
            ]
          },
          "metadata": {
            "tags": []
          }
        }
      ]
    },
    {
      "cell_type": "code",
      "metadata": {
        "id": "IySAwt1ENVY8",
        "colab_type": "code",
        "colab": {}
      },
      "source": [
        "learn.save('full_stage1')"
      ],
      "execution_count": 0,
      "outputs": []
    },
    {
      "cell_type": "code",
      "metadata": {
        "id": "QHLtru4XPIyR",
        "colab_type": "code",
        "colab": {
          "base_uri": "https://localhost:8080/",
          "height": 34
        },
        "outputId": "1eb89770-2506-4eb2-caf2-68532e3b9b5a"
      },
      "source": [
        "learn.lr_find()"
      ],
      "execution_count": 18,
      "outputs": [
        {
          "output_type": "display_data",
          "data": {
            "text/html": [
              ""
            ],
            "text/plain": [
              "<IPython.core.display.HTML object>"
            ]
          },
          "metadata": {
            "tags": []
          }
        },
        {
          "output_type": "stream",
          "text": [
            "LR Finder is complete, type {learner_name}.recorder.plot() to see the graph.\n"
          ],
          "name": "stdout"
        }
      ]
    },
    {
      "cell_type": "code",
      "metadata": {
        "id": "jXHfTkx3PKEq",
        "colab_type": "code",
        "colab": {
          "base_uri": "https://localhost:8080/",
          "height": 283
        },
        "outputId": "7656cacc-bb2f-4567-ee51-e9580e5645f9"
      },
      "source": [
        "learn.recorder.plot()"
      ],
      "execution_count": 19,
      "outputs": [
        {
          "output_type": "display_data",
          "data": {
            "image/png": "iVBORw0KGgoAAAANSUhEUgAAAZQAAAEKCAYAAAA1qaOTAAAABHNCSVQICAgIfAhkiAAAAAlwSFlz\nAAALEgAACxIB0t1+/AAAADl0RVh0U29mdHdhcmUAbWF0cGxvdGxpYiB2ZXJzaW9uIDMuMC4zLCBo\ndHRwOi8vbWF0cGxvdGxpYi5vcmcvnQurowAAEbZJREFUeJzt3XuwXXV5xvHvI1GqRbkGxMQYBEYn\n1oqyC1priwIB/tCA0g60jkFpM1aptbRO03FGFG94pVov0xQv0VFRcRyDVmMEGVsLmhNAMQomgA6h\nKEgQpV4QfPvHXpHDYSdnJ+d3zs7hfD8ze7LWb71rrXcT2A/rstdOVSFJ0lQ9ZNQNSJIeHAwUSVIT\nBookqQkDRZLUhIEiSWrCQJEkNWGgSJKaMFAkSU0YKJKkJuaNuoGZdMABB9TixYtH3YYkzSobNmz4\nSVXNn6xuTgXK4sWLGRsbG3UbkjSrJPnhMHWe8pIkNWGgSJKaMFAkSU0YKJKkJgwUSVITBookqQkD\nRZLUhIEiSWrCQJEkNWGgSJKaMFAkSU0YKJKkJgwUSVITBookqQkDRZLUhIEiSWrCQJEkNWGgSJKa\nMFAkSU0YKJKkJgwUSVITBookqQkDRZLUhIEiSWpipIGS5MQk1yXZnGTlgOV7Jvlkt/wbSRZPWL4o\nyV1J/mmmepYkDTayQEmyB/Be4CRgCXB6kiUTys4E7qiqw4DzgbdMWP5O4IvT3askaXKjPEI5Cthc\nVTdU1d3AhcCyCTXLgNXd9EXAsUkCkORk4EZg4wz1K0nagVEGygLgpnHzW7qxgTVVdQ9wJ7B/kr2A\nfwZeNwN9SpKGMFsvyr8WOL+q7pqsMMmKJGNJxm677bbp70yS5qh5I9z3zcBjx80v7MYG1WxJMg/Y\nG7gdOBo4NclbgX2A3yb5VVW9Z+JOqmoVsAqg1+tV83chSQJGGyjrgcOTHEI/OE4D/nJCzRpgOXA5\ncCpwaVUV8KxtBUleC9w1KEwkSTNnZIFSVfckOQtYC+wBfLCqNiY5FxirqjXAB4CPJtkMbKUfOpKk\n3VD6/8M/N/R6vRobGxt1G5I0qyTZUFW9yepm60V5SdJuxkCRJDVhoEiSmjBQJElNGCiSpCYMFElS\nEwaKJKkJA0WS1ISBIklqwkCRJDVhoEiSmjBQJElNGCiSpCYMFElSEwaKJKkJA0WS1ISBIklqwkCR\nJDVhoEiSmjBQJElNGCiSpCYMFElSEwaKJKkJA0WS1ISBIklqwkCRJDVhoEiSmjBQJElNGCiSpCYM\nFElSEwaKJKmJkQZKkhOTXJdkc5KVA5bvmeST3fJvJFncjR+fZEOSa7o/nzPTvUuS7m9kgZJkD+C9\nwEnAEuD0JEsmlJ0J3FFVhwHnA2/pxn8CPLeqngwsBz46M11LkrZnlEcoRwGbq+qGqrobuBBYNqFm\nGbC6m74IODZJquqqqvrfbnwj8PAke85I15KkgUYZKAuAm8bNb+nGBtZU1T3AncD+E2peAFxZVb+e\npj4lSUOYN+oGpiLJk+ifBlu6g5oVwAqARYsWzVBnkjT3jPII5WbgsePmF3ZjA2uSzAP2Bm7v5hcC\nnwVeVFXXb28nVbWqqnpV1Zs/f37D9iVJ440yUNYDhyc5JMnDgNOANRNq1tC/6A5wKnBpVVWSfYAv\nACur6usz1rEkabtGFijdNZGzgLXA94BPVdXGJOcmeV5X9gFg/ySbgbOBbbcWnwUcBrwmydXd68AZ\nfguSpHFSVaPuYcb0er0aGxsbdRuSNKsk2VBVvcnq/Ka8JKkJA0WS1ISBIklqwkCRJDVhoEiSmjBQ\nJElNGCiSpCYMFElSEwaKJKkJA0WS1ISBIklqwkCRJDVhoEiSmjBQJElNGCiSpCYMFElSEwaKJKkJ\nA0WS1ISBIklqwkCRJDVhoEiSmjBQJElNGCiSpCYMFElSEwaKJKmJoQIlyaFJ9uymj0nyiiT7TG9r\nkqTZZNgjlM8A9yY5DFgFPBb4+LR1JUmadYYNlN9W1T3AKcC/VdWrgIOnry1J0mwzbKD8JsnpwHLg\n893YQ6enJUnSbDRsoLwYeAbwxqq6MckhwEenry1J0mwzVKBU1Xer6hVV9Ykk+wKPrKq3THXnSU5M\ncl2SzUlWDli+Z5JPdsu/kWTxuGX/0o1fl+SEqfYiSZqaYe/yuizJo5LsB1wJ/EeSd05lx0n2AN4L\nnAQsAU5PsmRC2ZnAHVV1GHA+8JZu3SXAacCTgBOB93XbkySNyLCnvPauqp8Bzwc+UlVHA8dNcd9H\nAZur6oaquhu4EFg2oWYZsLqbvgg4Nkm68Qur6tdVdSOwudueJGlEhg2UeUkOBv6C+y7KT9UC4KZx\n81u6sYE13V1mdwL7D7muJGkGDRso5wJrgeuran2SxwObpq+tdpKsSDKWZOy2224bdTuS9KA17EX5\nT1fVH1bV33bzN1TVC6a475vpf0Fym4Xd2MCaJPOAvYHbh1x3W++rqqpXVb358+dPsWVJ0vYMe1F+\nYZLPJrm1e30mycIp7ns9cHiSQ5I8jP5F9jUTatbQ/+4LwKnApVVV3fhp3V1ghwCHA9+cYj+SpCkY\n9pTXh+h/iD+me13cje2y7prIWfRPpX0P+FRVbUxybpLndWUfAPZPshk4G1jZrbsR+BTwXeBLwMur\n6t6p9CNJmpr0/4d/kqLk6qo6YrKx3V2v16uxsbFRtyFJs0qSDVXVm6xu2COU25O8MMke3euF9K9l\nSJIEDB8oL6F/y/CPgFvoX884Y5p6kiTNQsPe5fXDqnpeVc2vqgOr6mRgqnd5SZIeRKbyi41nN+tC\nkjTrTSVQ0qwLSdKsN5VAmfz2MEnSnDFvRwuT/JzBwRHg4dPSkSRpVtphoFTVI2eqEUnS7DaVU16S\nJP2OgSJJasJAkSQ1YaBIkpowUCRJTRgokqQmDBRJUhMGiiSpCQNFktSEgSJJasJAkSQ1YaBIkpow\nUCRJTRgokqQmDBRJUhMGiiSpCQNFktSEgSJJasJAkSQ1YaBIkpowUCRJTRgokqQmDBRJUhMjCZQk\n+yVZl2RT9+e+26lb3tVsSrK8G3tEki8kuTbJxiTnzWz3kqRBRnWEshK4pKoOBy7p5u8nyX7AOcDR\nwFHAOeOC5+1V9UTgqcAzk5w0M21LkrZnVIGyDFjdTa8GTh5QcwKwrqq2VtUdwDrgxKr6RVV9FaCq\n7gauBBbOQM+SpB0YVaAcVFW3dNM/Ag4aULMAuGnc/JZu7HeS7AM8l/5RjiRphOZN14aTfAV49IBF\nrx4/U1WVpHZh+/OATwDvrqobdlC3AlgBsGjRop3djSRpSNMWKFV13PaWJflxkoOr6pYkBwO3Dii7\nGThm3PxC4LJx86uATVX1r5P0saqrpdfr7XRwSZKGM6pTXmuA5d30cuBzA2rWAkuT7NtdjF/ajZHk\nDcDewCtnoFdJ0hBGFSjnAccn2QQc182TpJfkAoCq2gq8Hljfvc6tqq1JFtI/bbYEuDLJ1Un+ehRv\nQpJ0n1TNnbNAvV6vxsbGRt2GJM0qSTZUVW+yOr8pL0lqwkCRJDVhoEiSmjBQJElNGCiSpCYMFElS\nEwaKJKkJA0WS1ISBIklqwkCRJDVhoEiSmjBQJElNGCiSpCYMFElSEwaKJKkJA0WS1ISBIklqwkCR\nJDVhoEiSmjBQJElNGCiSpCYMFElSEwaKJKkJA0WS1ISBIklqwkCRJDVhoEiSmjBQJElNGCiSpCYM\nFElSEyMJlCT7JVmXZFP3577bqVve1WxKsnzA8jVJvjP9HUuSJjOqI5SVwCVVdThwSTd/P0n2A84B\njgaOAs4ZHzxJng/cNTPtSpImM6pAWQas7qZXAycPqDkBWFdVW6vqDmAdcCJAkr2As4E3zECvkqQh\njCpQDqqqW7rpHwEHDahZANw0bn5LNwbweuAdwC+mrUNJ0k6ZN10bTvIV4NEDFr16/ExVVZLaie0e\nARxaVf+QZPEQ9SuAFQCLFi0adjeSpJ00bYFSVcdtb1mSHyc5uKpuSXIwcOuAspuBY8bNLwQuA54B\n9JL8gH7/Bya5rKqOYYCqWgWsAuj1ekMHlyRp54zqlNcaYNtdW8uBzw2oWQssTbJvdzF+KbC2qt5f\nVY+pqsXAnwDf316YSJJmzqgC5Tzg+CSbgOO6eZL0klwAUFVb6V8rWd+9zu3GJEm7oVTNnbNAvV6v\nxsbGRt2GJM0qSTZUVW+yOr8pL0lqwkCRJDVhoEiSmjBQJElNGCiSpCYMFElSEwaKJKkJA0WS1ISB\nIklqwkCRJDVhoEiSmjBQJElNGCiSpCYMFElSEwaKJKkJA0WS1ISBIklqwkCRJDVhoEiSmjBQJElN\nGCiSpCYMFElSEwaKJKkJA0WS1ISBIklqIlU16h5mTJLbgJ8Cd+7C6gcAP2nbkXZgb3bt72l3tru+\np1H1Nd37bb39VtubynZ2dd2pfn49rqrmT1Y0pwIFIMmqqlqxC+uNVVVvOnrSA+3q39PubHd9T6Pq\na7r323r7rbY3le3s7p9fc/GU18WjbkBDeTD+Pe2u72lUfU33fltvv9X2prKd3fXfIWAOHqHsKo9Q\nJM1WHqHsflaNugFJ2kUz8vnlEYokqQmPUCRJTcyZQEnywSS3JvlOo+0tT7Kpey0fN35kkmuSbE7y\n7iRpsT9Jc9sMfoa9MclNSe7a2W3OmUABPgycuLMrJbksyeIJY/sB5wBHA0cB5yTZt1v8fuBvgMO7\n107vU5IG+DAz8xl2cTe20+ZMoFTV14Ct48eSHJrkS0k2JPmvJE8ccnMnAOuqamtV3QGsA05McjDw\nqKq6ovoXpz4CnNzyfUiam2biM6zbzxVVdcuu9DhvV1Z6EFkFvLSqNiU5Gngf8Jwh1lsA3DRufks3\ntqCbnjguSdOh9WfYlMzZQEmyF/DHwKfHXebYs1v2YuDvu7HDgP9McjdwY1WdMtO9StJEu+Nn2JwN\nFPqn+35aVUdMXFBVHwI+BP3zj8AZVfWDcSU3A8eMm18IXNaNL5wwfnPDniVpm+n4DJtyQ3NSVf0M\nuDHJnwOk7ylDrr4WWJpk3+5C1lJgbXfe8WdJnt7d3fUi4HPT0b+kuW06PsOm2tOcCZQknwAuB56Q\nZEuSM4G/As5M8i1gI7BsmG1V1Vbg9cD67nVuNwbwMuACYDNwPfDFpm9E0pw0U59hSd6aZAvwiG4/\nrx26R78pL0lqYc4coUiSppeBIklqwkCRJDVhoEiSmjBQJElNGCia03bliapT3N8FSZY02ta9Sa5O\n8p0kFyfZZ5L6fZK8rMW+pUG8bVhzWpK7qmqvhtubV1X3tNreJPv6Xe9JVgPfr6o37qB+MfD5qvqD\nmehPc49HKNIESeYn+UyS9d3rmd34UUkuT3JVkv9J8oRu/Iwka5JcClyS5JjukeEXJbk2yce2/S5O\nN97rpu/qfnviW0muSHJQN35oN39NkjcMeRR1Od3D/ZLsleSSJFd229j2ZbfzgEO7o5q3dbWv6t7j\nt5O8ruE/Rs1BBor0QO8Czq+qPwJeQP/JBwDXAs+qqqcCrwHeNG6dpwGnVtWfdfNPBV4JLAEeDzxz\nwH5+H7iiqp4CfI3+7+hs2/+7qurJ3P/p1QMl2QM4FljTDf0KOKWqngY8G3hHF2grgeur6oiqelWS\npfR/s+co4AjgyCR/Otn+pO2Zyw+HlLbnOGDJuCe4Pqp7suvewOokhwMFPHTcOuvGPX4H4JtVtQUg\nydXAYuC/J+znbuDz3fQG4Phu+hnc9zs6Hwfevp0+H95tewHwPfq/aQEQ4E1dOPy2W37QgPWXdq+r\nuvm96AfM17azP2mHDBTpgR4CPL2qfjV+MMl7gK9W1Snd9YjLxi3+vwnb+PW46XsZ/N/ab+q+i5jb\nq9mRX1bVEUkeQf/Bfi8H3k3/+U7zgSOr6jdJfgD83oD1A7y5qv59J/crDeQpL+mBvgz83baZJNse\nD7439/0cwRnTuP8r6J9qAzhtsuKq+gXwCuAfk8yj3+etXZg8G3hcV/pz4JHjVl0LvKQ7+iLJgiQH\nNnoPmoMMFM11256ouu11Nv0P5153ofq7wEu72rcCb05yFdN7dP9K4Owk36b/40h3TrZCVV0FfBs4\nHfgY/f6vof8TCtd2NbcDX+9uM35bVX2Z/im1y7vai7h/4Eg7xduGpd1Mdwrrl1VVSU4DTq+qoR5L\nLo2S11Ck3c+RwHu6O7N+CrxkxP1IQ/EIRZLUhNdQJElNGCiSpCYMFElSEwaKJKkJA0WS1ISBIklq\n4v8ByxvC7M87tbUAAAAASUVORK5CYII=\n",
            "text/plain": [
              "<Figure size 432x288 with 1 Axes>"
            ]
          },
          "metadata": {
            "tags": []
          }
        }
      ]
    },
    {
      "cell_type": "code",
      "metadata": {
        "id": "H6a9C2a3PMJO",
        "colab_type": "code",
        "colab": {
          "base_uri": "https://localhost:8080/",
          "height": 142
        },
        "outputId": "33f8a161-0421-4bd1-9beb-7510ca1f5812"
      },
      "source": [
        "learn.fit_one_cycle(3, max_lr=1e-03)"
      ],
      "execution_count": 20,
      "outputs": [
        {
          "output_type": "display_data",
          "data": {
            "text/html": [
              "<table border=\"1\" class=\"dataframe\">\n",
              "  <thead>\n",
              "    <tr style=\"text-align: left;\">\n",
              "      <th>epoch</th>\n",
              "      <th>train_loss</th>\n",
              "      <th>valid_loss</th>\n",
              "      <th>root_mean_squared_error</th>\n",
              "      <th>time</th>\n",
              "    </tr>\n",
              "  </thead>\n",
              "  <tbody>\n",
              "    <tr>\n",
              "      <td>0</td>\n",
              "      <td>0.731504</td>\n",
              "      <td>1.116015</td>\n",
              "      <td>0.745775</td>\n",
              "      <td>18:24</td>\n",
              "    </tr>\n",
              "    <tr>\n",
              "      <td>1</td>\n",
              "      <td>0.671577</td>\n",
              "      <td>1.058687</td>\n",
              "      <td>0.761196</td>\n",
              "      <td>18:55</td>\n",
              "    </tr>\n",
              "    <tr>\n",
              "      <td>2</td>\n",
              "      <td>0.507540</td>\n",
              "      <td>1.167907</td>\n",
              "      <td>0.796843</td>\n",
              "      <td>18:47</td>\n",
              "    </tr>\n",
              "  </tbody>\n",
              "</table>"
            ],
            "text/plain": [
              "<IPython.core.display.HTML object>"
            ]
          },
          "metadata": {
            "tags": []
          }
        }
      ]
    },
    {
      "cell_type": "code",
      "metadata": {
        "id": "AMxBAjgbXPUp",
        "colab_type": "code",
        "colab": {}
      },
      "source": [
        "learn.save('full_stage2')"
      ],
      "execution_count": 0,
      "outputs": []
    },
    {
      "cell_type": "markdown",
      "metadata": {
        "id": "h86ZHTZXTl07",
        "colab_type": "text"
      },
      "source": [
        "# Submission"
      ]
    },
    {
      "cell_type": "code",
      "metadata": {
        "id": "KzQOAZkQUI__",
        "colab_type": "code",
        "colab": {}
      },
      "source": [
        "!gunzip test.csv.gz"
      ],
      "execution_count": 0,
      "outputs": []
    },
    {
      "cell_type": "code",
      "metadata": {
        "id": "2xLN_P-hUnQk",
        "colab_type": "code",
        "colab": {}
      },
      "source": [
        "preds, _ = learn.get_preds(ds_type=DatasetType.Test)\n"
      ],
      "execution_count": 0,
      "outputs": []
    },
    {
      "cell_type": "code",
      "metadata": {
        "id": "WpyZsarCWb00",
        "colab_type": "code",
        "colab": {}
      },
      "source": [
        "pred_probs, _ = preds.max(1)"
      ],
      "execution_count": 0,
      "outputs": []
    },
    {
      "cell_type": "code",
      "metadata": {
        "id": "CcQ8qUr7WDqy",
        "colab_type": "code",
        "colab": {}
      },
      "source": [
        "test_file = pd.read_csv('test.csv').set_index('ID')"
      ],
      "execution_count": 0,
      "outputs": []
    },
    {
      "cell_type": "code",
      "metadata": {
        "id": "sMkRclJyUZvg",
        "colab_type": "code",
        "colab": {}
      },
      "source": [
        "\n",
        "submission = pd.DataFrame({\n",
        "    \"ID\": test_file.index, \n",
        "    \"item_cnt_month\": pred_probs\n",
        "})\n",
        "submission.to_csv('nn_submission.csv', index=False)\n"
      ],
      "execution_count": 0,
      "outputs": []
    },
    {
      "cell_type": "code",
      "metadata": {
        "id": "bXQxTA41WKtR",
        "colab_type": "code",
        "colab": {
          "base_uri": "https://localhost:8080/",
          "height": 187
        },
        "outputId": "5a58ec33-5a72-442c-cac9-96999c4f894b"
      },
      "source": [
        "!head nn_submission.csv"
      ],
      "execution_count": 26,
      "outputs": [
        {
          "output_type": "stream",
          "text": [
            "ID,item_cnt_month\n",
            "0,0.82425797\n",
            "1,0.5383707\n",
            "2,1.4743476\n",
            "3,0.30877748\n",
            "4,4.8054304\n",
            "5,0.84149516\n",
            "6,1.4506618\n",
            "7,0.1321444\n",
            "8,0.47644866\n"
          ],
          "name": "stdout"
        }
      ]
    },
    {
      "cell_type": "code",
      "metadata": {
        "id": "e6jqhBYgWOMT",
        "colab_type": "code",
        "colab": {
          "base_uri": "https://localhost:8080/",
          "height": 224
        },
        "outputId": "b965874d-bcae-48cb-fb93-4296713ef1e6"
      },
      "source": [
        "df_test.head()"
      ],
      "execution_count": 27,
      "outputs": [
        {
          "output_type": "execute_result",
          "data": {
            "text/html": [
              "<div>\n",
              "<style scoped>\n",
              "    .dataframe tbody tr th:only-of-type {\n",
              "        vertical-align: middle;\n",
              "    }\n",
              "\n",
              "    .dataframe tbody tr th {\n",
              "        vertical-align: top;\n",
              "    }\n",
              "\n",
              "    .dataframe thead th {\n",
              "        text-align: right;\n",
              "    }\n",
              "</style>\n",
              "<table border=\"1\" class=\"dataframe\">\n",
              "  <thead>\n",
              "    <tr style=\"text-align: right;\">\n",
              "      <th></th>\n",
              "      <th>date_block_num</th>\n",
              "      <th>shop_id</th>\n",
              "      <th>item_id</th>\n",
              "      <th>item_cnt_month</th>\n",
              "      <th>city_code</th>\n",
              "      <th>item_category_id</th>\n",
              "      <th>type_code</th>\n",
              "      <th>subtype_code</th>\n",
              "      <th>item_cnt_month_lag_1</th>\n",
              "      <th>item_cnt_month_lag_2</th>\n",
              "      <th>item_cnt_month_lag_3</th>\n",
              "      <th>item_cnt_month_lag_6</th>\n",
              "      <th>item_cnt_month_lag_12</th>\n",
              "      <th>date_avg_item_cnt_lag_1</th>\n",
              "      <th>date_item_avg_item_cnt_lag_1</th>\n",
              "      <th>date_item_avg_item_cnt_lag_2</th>\n",
              "      <th>date_item_avg_item_cnt_lag_3</th>\n",
              "      <th>date_item_avg_item_cnt_lag_6</th>\n",
              "      <th>date_item_avg_item_cnt_lag_12</th>\n",
              "      <th>date_shop_avg_item_cnt_lag_1</th>\n",
              "      <th>date_shop_avg_item_cnt_lag_2</th>\n",
              "      <th>date_shop_avg_item_cnt_lag_3</th>\n",
              "      <th>date_shop_avg_item_cnt_lag_6</th>\n",
              "      <th>date_shop_avg_item_cnt_lag_12</th>\n",
              "      <th>date_cat_avg_item_cnt_lag_1</th>\n",
              "      <th>date_shop_cat_avg_item_cnt_lag_1</th>\n",
              "      <th>date_shop_type_avg_item_cnt_lag_1</th>\n",
              "      <th>date_shop_subtype_avg_item_cnt_lag_1</th>\n",
              "      <th>date_city_avg_item_cnt_lag_1</th>\n",
              "      <th>date_item_city_avg_item_cnt_lag_1</th>\n",
              "      <th>date_type_avg_item_cnt_lag_1</th>\n",
              "      <th>date_subtype_avg_item_cnt_lag_1</th>\n",
              "      <th>delta_price_lag</th>\n",
              "      <th>delta_revenue_lag_1</th>\n",
              "      <th>month</th>\n",
              "      <th>days</th>\n",
              "      <th>item_shop_last_sale</th>\n",
              "      <th>item_last_sale</th>\n",
              "      <th>item_shop_first_sale</th>\n",
              "      <th>item_first_sale</th>\n",
              "    </tr>\n",
              "  </thead>\n",
              "  <tbody>\n",
              "    <tr>\n",
              "      <th>10913804</th>\n",
              "      <td>34</td>\n",
              "      <td>5</td>\n",
              "      <td>5037</td>\n",
              "      <td>0.0</td>\n",
              "      <td>3</td>\n",
              "      <td>19</td>\n",
              "      <td>5</td>\n",
              "      <td>10</td>\n",
              "      <td>0.0</td>\n",
              "      <td>1.0</td>\n",
              "      <td>3.0</td>\n",
              "      <td>1.0</td>\n",
              "      <td>1.0</td>\n",
              "      <td>0.258545</td>\n",
              "      <td>0.568359</td>\n",
              "      <td>2.511719</td>\n",
              "      <td>2.833984</td>\n",
              "      <td>1.977539</td>\n",
              "      <td>1.299805</td>\n",
              "      <td>0.190063</td>\n",
              "      <td>0.205933</td>\n",
              "      <td>0.245117</td>\n",
              "      <td>0.180054</td>\n",
              "      <td>0.206055</td>\n",
              "      <td>0.379150</td>\n",
              "      <td>0.513672</td>\n",
              "      <td>0.456055</td>\n",
              "      <td>0.447021</td>\n",
              "      <td>0.190063</td>\n",
              "      <td>0.0</td>\n",
              "      <td>0.494141</td>\n",
              "      <td>0.337402</td>\n",
              "      <td>-0.222046</td>\n",
              "      <td>-0.048553</td>\n",
              "      <td>10</td>\n",
              "      <td>30</td>\n",
              "      <td>1</td>\n",
              "      <td>1</td>\n",
              "      <td>14</td>\n",
              "      <td>14</td>\n",
              "    </tr>\n",
              "    <tr>\n",
              "      <th>10913805</th>\n",
              "      <td>34</td>\n",
              "      <td>5</td>\n",
              "      <td>5320</td>\n",
              "      <td>0.0</td>\n",
              "      <td>3</td>\n",
              "      <td>55</td>\n",
              "      <td>13</td>\n",
              "      <td>2</td>\n",
              "      <td>0.0</td>\n",
              "      <td>0.0</td>\n",
              "      <td>0.0</td>\n",
              "      <td>0.0</td>\n",
              "      <td>0.0</td>\n",
              "      <td>0.000000</td>\n",
              "      <td>0.000000</td>\n",
              "      <td>0.000000</td>\n",
              "      <td>0.000000</td>\n",
              "      <td>0.000000</td>\n",
              "      <td>0.000000</td>\n",
              "      <td>0.000000</td>\n",
              "      <td>0.000000</td>\n",
              "      <td>0.000000</td>\n",
              "      <td>0.000000</td>\n",
              "      <td>0.000000</td>\n",
              "      <td>0.000000</td>\n",
              "      <td>0.000000</td>\n",
              "      <td>0.000000</td>\n",
              "      <td>0.000000</td>\n",
              "      <td>0.000000</td>\n",
              "      <td>0.0</td>\n",
              "      <td>0.000000</td>\n",
              "      <td>0.000000</td>\n",
              "      <td>0.000000</td>\n",
              "      <td>0.000000</td>\n",
              "      <td>10</td>\n",
              "      <td>30</td>\n",
              "      <td>-1</td>\n",
              "      <td>-1</td>\n",
              "      <td>0</td>\n",
              "      <td>0</td>\n",
              "    </tr>\n",
              "    <tr>\n",
              "      <th>10913806</th>\n",
              "      <td>34</td>\n",
              "      <td>5</td>\n",
              "      <td>5233</td>\n",
              "      <td>0.0</td>\n",
              "      <td>3</td>\n",
              "      <td>19</td>\n",
              "      <td>5</td>\n",
              "      <td>10</td>\n",
              "      <td>1.0</td>\n",
              "      <td>3.0</td>\n",
              "      <td>1.0</td>\n",
              "      <td>3.0</td>\n",
              "      <td>0.0</td>\n",
              "      <td>0.258545</td>\n",
              "      <td>0.954590</td>\n",
              "      <td>1.860352</td>\n",
              "      <td>3.572266</td>\n",
              "      <td>1.613281</td>\n",
              "      <td>0.000000</td>\n",
              "      <td>0.190063</td>\n",
              "      <td>0.205933</td>\n",
              "      <td>0.245117</td>\n",
              "      <td>0.180054</td>\n",
              "      <td>0.000000</td>\n",
              "      <td>0.379150</td>\n",
              "      <td>0.513672</td>\n",
              "      <td>0.456055</td>\n",
              "      <td>0.447021</td>\n",
              "      <td>0.190063</td>\n",
              "      <td>1.0</td>\n",
              "      <td>0.494141</td>\n",
              "      <td>0.337402</td>\n",
              "      <td>0.496826</td>\n",
              "      <td>-0.048553</td>\n",
              "      <td>10</td>\n",
              "      <td>30</td>\n",
              "      <td>1</td>\n",
              "      <td>1</td>\n",
              "      <td>7</td>\n",
              "      <td>7</td>\n",
              "    </tr>\n",
              "    <tr>\n",
              "      <th>10913807</th>\n",
              "      <td>34</td>\n",
              "      <td>5</td>\n",
              "      <td>5232</td>\n",
              "      <td>0.0</td>\n",
              "      <td>3</td>\n",
              "      <td>23</td>\n",
              "      <td>5</td>\n",
              "      <td>16</td>\n",
              "      <td>0.0</td>\n",
              "      <td>0.0</td>\n",
              "      <td>1.0</td>\n",
              "      <td>0.0</td>\n",
              "      <td>0.0</td>\n",
              "      <td>0.258545</td>\n",
              "      <td>0.636230</td>\n",
              "      <td>1.116211</td>\n",
              "      <td>1.547852</td>\n",
              "      <td>0.000000</td>\n",
              "      <td>0.000000</td>\n",
              "      <td>0.190063</td>\n",
              "      <td>0.205933</td>\n",
              "      <td>0.245117</td>\n",
              "      <td>0.000000</td>\n",
              "      <td>0.000000</td>\n",
              "      <td>0.337402</td>\n",
              "      <td>0.374268</td>\n",
              "      <td>0.456055</td>\n",
              "      <td>0.349121</td>\n",
              "      <td>0.190063</td>\n",
              "      <td>0.0</td>\n",
              "      <td>0.494141</td>\n",
              "      <td>0.331787</td>\n",
              "      <td>0.505371</td>\n",
              "      <td>-0.048553</td>\n",
              "      <td>10</td>\n",
              "      <td>30</td>\n",
              "      <td>1</td>\n",
              "      <td>1</td>\n",
              "      <td>3</td>\n",
              "      <td>3</td>\n",
              "    </tr>\n",
              "    <tr>\n",
              "      <th>10913808</th>\n",
              "      <td>34</td>\n",
              "      <td>5</td>\n",
              "      <td>5268</td>\n",
              "      <td>0.0</td>\n",
              "      <td>3</td>\n",
              "      <td>20</td>\n",
              "      <td>5</td>\n",
              "      <td>11</td>\n",
              "      <td>0.0</td>\n",
              "      <td>0.0</td>\n",
              "      <td>0.0</td>\n",
              "      <td>0.0</td>\n",
              "      <td>0.0</td>\n",
              "      <td>0.000000</td>\n",
              "      <td>0.000000</td>\n",
              "      <td>0.000000</td>\n",
              "      <td>0.000000</td>\n",
              "      <td>0.000000</td>\n",
              "      <td>0.000000</td>\n",
              "      <td>0.000000</td>\n",
              "      <td>0.000000</td>\n",
              "      <td>0.000000</td>\n",
              "      <td>0.000000</td>\n",
              "      <td>0.000000</td>\n",
              "      <td>0.000000</td>\n",
              "      <td>0.000000</td>\n",
              "      <td>0.000000</td>\n",
              "      <td>0.000000</td>\n",
              "      <td>0.000000</td>\n",
              "      <td>0.0</td>\n",
              "      <td>0.000000</td>\n",
              "      <td>0.000000</td>\n",
              "      <td>0.000000</td>\n",
              "      <td>0.000000</td>\n",
              "      <td>10</td>\n",
              "      <td>30</td>\n",
              "      <td>-1</td>\n",
              "      <td>-1</td>\n",
              "      <td>0</td>\n",
              "      <td>0</td>\n",
              "    </tr>\n",
              "  </tbody>\n",
              "</table>\n",
              "</div>"
            ],
            "text/plain": [
              "          date_block_num  shop_id  ...  item_shop_first_sale  item_first_sale\n",
              "10913804              34        5  ...                    14               14\n",
              "10913805              34        5  ...                     0                0\n",
              "10913806              34        5  ...                     7                7\n",
              "10913807              34        5  ...                     3                3\n",
              "10913808              34        5  ...                     0                0\n",
              "\n",
              "[5 rows x 40 columns]"
            ]
          },
          "metadata": {
            "tags": []
          },
          "execution_count": 27
        }
      ]
    },
    {
      "cell_type": "code",
      "metadata": {
        "id": "eHrkBDrXWxpQ",
        "colab_type": "code",
        "colab": {
          "base_uri": "https://localhost:8080/",
          "height": 235
        },
        "outputId": "bf045738-eded-4d18-d257-65eec2b53df0"
      },
      "source": [
        "test_file.head()"
      ],
      "execution_count": 28,
      "outputs": [
        {
          "output_type": "execute_result",
          "data": {
            "text/html": [
              "<div>\n",
              "<style scoped>\n",
              "    .dataframe tbody tr th:only-of-type {\n",
              "        vertical-align: middle;\n",
              "    }\n",
              "\n",
              "    .dataframe tbody tr th {\n",
              "        vertical-align: top;\n",
              "    }\n",
              "\n",
              "    .dataframe thead th {\n",
              "        text-align: right;\n",
              "    }\n",
              "</style>\n",
              "<table border=\"1\" class=\"dataframe\">\n",
              "  <thead>\n",
              "    <tr style=\"text-align: right;\">\n",
              "      <th></th>\n",
              "      <th>shop_id</th>\n",
              "      <th>item_id</th>\n",
              "    </tr>\n",
              "    <tr>\n",
              "      <th>ID</th>\n",
              "      <th></th>\n",
              "      <th></th>\n",
              "    </tr>\n",
              "  </thead>\n",
              "  <tbody>\n",
              "    <tr>\n",
              "      <th>0</th>\n",
              "      <td>5</td>\n",
              "      <td>5037</td>\n",
              "    </tr>\n",
              "    <tr>\n",
              "      <th>1</th>\n",
              "      <td>5</td>\n",
              "      <td>5320</td>\n",
              "    </tr>\n",
              "    <tr>\n",
              "      <th>2</th>\n",
              "      <td>5</td>\n",
              "      <td>5233</td>\n",
              "    </tr>\n",
              "    <tr>\n",
              "      <th>3</th>\n",
              "      <td>5</td>\n",
              "      <td>5232</td>\n",
              "    </tr>\n",
              "    <tr>\n",
              "      <th>4</th>\n",
              "      <td>5</td>\n",
              "      <td>5268</td>\n",
              "    </tr>\n",
              "  </tbody>\n",
              "</table>\n",
              "</div>"
            ],
            "text/plain": [
              "    shop_id  item_id\n",
              "ID                  \n",
              "0         5     5037\n",
              "1         5     5320\n",
              "2         5     5233\n",
              "3         5     5232\n",
              "4         5     5268"
            ]
          },
          "metadata": {
            "tags": []
          },
          "execution_count": 28
        }
      ]
    },
    {
      "cell_type": "code",
      "metadata": {
        "id": "PLdMxeiAWyj0",
        "colab_type": "code",
        "colab": {}
      },
      "source": [
        ""
      ],
      "execution_count": 0,
      "outputs": []
    }
  ]
}
